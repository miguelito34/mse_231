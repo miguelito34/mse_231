{
 "cells": [
  {
   "cell_type": "markdown",
   "metadata": {},
   "source": [
    "Setup"
   ]
  },
  {
   "cell_type": "code",
   "execution_count": 13,
   "metadata": {},
   "outputs": [],
   "source": [
    "import sys\n",
    "import os\n",
    "import json\n",
    "import pandas"
   ]
  },
  {
   "cell_type": "code",
   "execution_count": 14,
   "metadata": {},
   "outputs": [],
   "source": [
    "os.chdir(\"/Users/michaelspencer/stanford_coding/mse_231/mse231_a1/\")"
   ]
  },
  {
   "cell_type": "code",
   "execution_count": 15,
   "metadata": {},
   "outputs": [
    {
     "data": {
      "text/plain": [
       "'/Users/michaelspencer/stanford_coding/mse_231/mse231_a1'"
      ]
     },
     "execution_count": 15,
     "metadata": {},
     "output_type": "execute_result"
    }
   ],
   "source": [
    "pwd"
   ]
  },
  {
   "cell_type": "markdown",
   "metadata": {},
   "source": [
    "Start Code"
   ]
  },
  {
   "cell_type": "code",
   "execution_count": 16,
   "metadata": {},
   "outputs": [
    {
     "name": "stdout",
     "output_type": "stream",
     "text": [
      "{'created_at': 'Tue Oct 01 06:30:29 +0000 2019', 'id': 1178920099526451200, 'id_str': '1178920099526451200', 'text': 'RT @solacemo: Skepta when he takes Adele shopping for Nigerian Independence Day https://t.co/KmPbYrJ2U6', 'source': '<a href=\"http://twitter.com/download/iphone\" rel=\"nofollow\">Twitter for iPhone</a>', 'truncated': False, 'in_reply_to_status_id': None, 'in_reply_to_status_id_str': None, 'in_reply_to_user_id': None, 'in_reply_to_user_id_str': None, 'in_reply_to_screen_name': None, 'user': {'id': 335213439, 'id_str': '335213439', 'name': 'Mike', 'screen_name': 'mikegermosen', 'location': 'Carolina, Puerto Rico', 'url': 'http://www.bluefocussphotography.com/', 'description': 'Photographer - Sneakerhead - Ig:bluefocussphotography / Owner of @hypelaces_', 'translator_type': 'none', 'protected': False, 'verified': False, 'followers_count': 2446, 'friends_count': 1084, 'listed_count': 95, 'favourites_count': 135000, 'statuses_count': 243779, 'created_at': 'Thu Jul 14 10:06:41 +0000 2011', 'utc_offset': None, 'time_zone': None, 'geo_enabled': True, 'lang': None, 'contributors_enabled': False, 'is_translator': False, 'profile_background_color': '131516', 'profile_background_image_url': 'http://abs.twimg.com/images/themes/theme14/bg.gif', 'profile_background_image_url_https': 'https://abs.twimg.com/images/themes/theme14/bg.gif', 'profile_background_tile': True, 'profile_link_color': '000000', 'profile_sidebar_border_color': 'FFFFFF', 'profile_sidebar_fill_color': 'EFEFEF', 'profile_text_color': '333333', 'profile_use_background_image': True, 'profile_image_url': 'http://pbs.twimg.com/profile_images/1167968179961749509/4GGIAns5_normal.jpg', 'profile_image_url_https': 'https://pbs.twimg.com/profile_images/1167968179961749509/4GGIAns5_normal.jpg', 'profile_banner_url': 'https://pbs.twimg.com/profile_banners/335213439/1548674840', 'default_profile': False, 'default_profile_image': False, 'following': None, 'follow_request_sent': None, 'notifications': None}, 'geo': None, 'coordinates': None, 'place': None, 'contributors': None, 'retweeted_status': {'created_at': 'Tue Oct 01 00:06:53 +0000 2019', 'id': 1178823563622731777, 'id_str': '1178823563622731777', 'text': 'Skepta when he takes Adele shopping for Nigerian Independence Day https://t.co/KmPbYrJ2U6', 'display_text_range': [0, 65], 'source': '<a href=\"http://twitter.com/download/iphone\" rel=\"nofollow\">Twitter for iPhone</a>', 'truncated': False, 'in_reply_to_status_id': None, 'in_reply_to_status_id_str': None, 'in_reply_to_user_id': None, 'in_reply_to_user_id_str': None, 'in_reply_to_screen_name': None, 'user': {'id': 851180901727965184, 'id_str': '851180901727965184', 'name': 'Mo', 'screen_name': 'solacemo', 'location': None, 'url': None, 'description': 'navy blue fan page', 'translator_type': 'none', 'protected': False, 'verified': False, 'followers_count': 282, 'friends_count': 241, 'listed_count': 1, 'favourites_count': 11698, 'statuses_count': 1347, 'created_at': 'Sun Apr 09 21:11:55 +0000 2017', 'utc_offset': None, 'time_zone': None, 'geo_enabled': False, 'lang': None, 'contributors_enabled': False, 'is_translator': False, 'profile_background_color': 'F5F8FA', 'profile_background_image_url': '', 'profile_background_image_url_https': '', 'profile_background_tile': False, 'profile_link_color': '1DA1F2', 'profile_sidebar_border_color': 'C0DEED', 'profile_sidebar_fill_color': 'DDEEF6', 'profile_text_color': '333333', 'profile_use_background_image': True, 'profile_image_url': 'http://pbs.twimg.com/profile_images/1161344455770816512/wI5dOw7L_normal.jpg', 'profile_image_url_https': 'https://pbs.twimg.com/profile_images/1161344455770816512/wI5dOw7L_normal.jpg', 'profile_banner_url': 'https://pbs.twimg.com/profile_banners/851180901727965184/1565721070', 'default_profile': True, 'default_profile_image': False, 'following': None, 'follow_request_sent': None, 'notifications': None}, 'geo': None, 'coordinates': None, 'place': None, 'contributors': None, 'is_quote_status': False, 'quote_count': 470, 'reply_count': 142, 'retweet_count': 2151, 'favorite_count': 7454, 'entities': {'hashtags': [], 'urls': [], 'user_mentions': [], 'symbols': [], 'media': [{'id': 1178823465492766720, 'id_str': '1178823465492766720', 'indices': [66, 89], 'additional_media_info': {'monetizable': False}, 'media_url': 'http://pbs.twimg.com/ext_tw_video_thumb/1178823465492766720/pu/img/FBXhv_Zbk8S_W16a.jpg', 'media_url_https': 'https://pbs.twimg.com/ext_tw_video_thumb/1178823465492766720/pu/img/FBXhv_Zbk8S_W16a.jpg', 'url': 'https://t.co/KmPbYrJ2U6', 'display_url': 'pic.twitter.com/KmPbYrJ2U6', 'expanded_url': 'https://twitter.com/solacemo/status/1178823563622731777/video/1', 'type': 'photo', 'sizes': {'thumb': {'w': 150, 'h': 150, 'resize': 'crop'}, 'medium': {'w': 1200, 'h': 675, 'resize': 'fit'}, 'small': {'w': 680, 'h': 383, 'resize': 'fit'}, 'large': {'w': 1280, 'h': 720, 'resize': 'fit'}}}]}, 'extended_entities': {'media': [{'id': 1178823465492766720, 'id_str': '1178823465492766720', 'indices': [66, 89], 'additional_media_info': {'monetizable': False}, 'media_url': 'http://pbs.twimg.com/ext_tw_video_thumb/1178823465492766720/pu/img/FBXhv_Zbk8S_W16a.jpg', 'media_url_https': 'https://pbs.twimg.com/ext_tw_video_thumb/1178823465492766720/pu/img/FBXhv_Zbk8S_W16a.jpg', 'url': 'https://t.co/KmPbYrJ2U6', 'display_url': 'pic.twitter.com/KmPbYrJ2U6', 'expanded_url': 'https://twitter.com/solacemo/status/1178823563622731777/video/1', 'type': 'video', 'video_info': {'aspect_ratio': [16, 9], 'duration_millis': 22893, 'variants': [{'bitrate': 256000, 'content_type': 'video/mp4', 'url': 'https://video.twimg.com/ext_tw_video/1178823465492766720/pu/vid/480x270/yZNesU2CH9MdU-fO.mp4?tag=10'}, {'bitrate': 2176000, 'content_type': 'video/mp4', 'url': 'https://video.twimg.com/ext_tw_video/1178823465492766720/pu/vid/1280x720/E-VkAy9R0orj_vJR.mp4?tag=10'}, {'bitrate': 832000, 'content_type': 'video/mp4', 'url': 'https://video.twimg.com/ext_tw_video/1178823465492766720/pu/vid/640x360/6nvkUfDYTk960JnD.mp4?tag=10'}, {'content_type': 'application/x-mpegURL', 'url': 'https://video.twimg.com/ext_tw_video/1178823465492766720/pu/pl/0oaAhleNDR60inT5.m3u8?tag=10'}]}, 'sizes': {'thumb': {'w': 150, 'h': 150, 'resize': 'crop'}, 'medium': {'w': 1200, 'h': 675, 'resize': 'fit'}, 'small': {'w': 680, 'h': 383, 'resize': 'fit'}, 'large': {'w': 1280, 'h': 720, 'resize': 'fit'}}}]}, 'favorited': False, 'retweeted': False, 'possibly_sensitive': False, 'filter_level': 'low', 'lang': 'en'}, 'is_quote_status': False, 'quote_count': 0, 'reply_count': 0, 'retweet_count': 0, 'favorite_count': 0, 'entities': {'hashtags': [], 'urls': [], 'user_mentions': [{'screen_name': 'solacemo', 'name': 'Mo', 'id': 851180901727965184, 'id_str': '851180901727965184', 'indices': [3, 12]}], 'symbols': [], 'media': [{'id': 1178823465492766720, 'id_str': '1178823465492766720', 'indices': [80, 103], 'additional_media_info': {'monetizable': False}, 'media_url': 'http://pbs.twimg.com/ext_tw_video_thumb/1178823465492766720/pu/img/FBXhv_Zbk8S_W16a.jpg', 'media_url_https': 'https://pbs.twimg.com/ext_tw_video_thumb/1178823465492766720/pu/img/FBXhv_Zbk8S_W16a.jpg', 'url': 'https://t.co/KmPbYrJ2U6', 'display_url': 'pic.twitter.com/KmPbYrJ2U6', 'expanded_url': 'https://twitter.com/solacemo/status/1178823563622731777/video/1', 'type': 'photo', 'sizes': {'thumb': {'w': 150, 'h': 150, 'resize': 'crop'}, 'medium': {'w': 1200, 'h': 675, 'resize': 'fit'}, 'small': {'w': 680, 'h': 383, 'resize': 'fit'}, 'large': {'w': 1280, 'h': 720, 'resize': 'fit'}}, 'source_status_id': 1178823563622731777, 'source_status_id_str': '1178823563622731777', 'source_user_id': 851180901727965184, 'source_user_id_str': '851180901727965184'}]}, 'extended_entities': {'media': [{'id': 1178823465492766720, 'id_str': '1178823465492766720', 'indices': [80, 103], 'additional_media_info': {'monetizable': False}, 'media_url': 'http://pbs.twimg.com/ext_tw_video_thumb/1178823465492766720/pu/img/FBXhv_Zbk8S_W16a.jpg', 'media_url_https': 'https://pbs.twimg.com/ext_tw_video_thumb/1178823465492766720/pu/img/FBXhv_Zbk8S_W16a.jpg', 'url': 'https://t.co/KmPbYrJ2U6', 'display_url': 'pic.twitter.com/KmPbYrJ2U6', 'expanded_url': 'https://twitter.com/solacemo/status/1178823563622731777/video/1', 'type': 'video', 'video_info': {'aspect_ratio': [16, 9], 'duration_millis': 22893, 'variants': [{'bitrate': 256000, 'content_type': 'video/mp4', 'url': 'https://video.twimg.com/ext_tw_video/1178823465492766720/pu/vid/480x270/yZNesU2CH9MdU-fO.mp4?tag=10'}, {'bitrate': 2176000, 'content_type': 'video/mp4', 'url': 'https://video.twimg.com/ext_tw_video/1178823465492766720/pu/vid/1280x720/E-VkAy9R0orj_vJR.mp4?tag=10'}, {'bitrate': 832000, 'content_type': 'video/mp4', 'url': 'https://video.twimg.com/ext_tw_video/1178823465492766720/pu/vid/640x360/6nvkUfDYTk960JnD.mp4?tag=10'}, {'content_type': 'application/x-mpegURL', 'url': 'https://video.twimg.com/ext_tw_video/1178823465492766720/pu/pl/0oaAhleNDR60inT5.m3u8?tag=10'}]}, 'sizes': {'thumb': {'w': 150, 'h': 150, 'resize': 'crop'}, 'medium': {'w': 1200, 'h': 675, 'resize': 'fit'}, 'small': {'w': 680, 'h': 383, 'resize': 'fit'}, 'large': {'w': 1280, 'h': 720, 'resize': 'fit'}}, 'source_status_id': 1178823563622731777, 'source_status_id_str': '1178823563622731777', 'source_user_id': 851180901727965184, 'source_user_id_str': '851180901727965184'}]}, 'favorited': False, 'retweeted': False, 'possibly_sensitive': False, 'filter_level': 'low', 'lang': 'en', 'timestamp_ms': '1569911429660'}\n",
      "created_at\n",
      "id\n",
      "id_str\n",
      "text\n",
      "source\n",
      "truncated\n",
      "in_reply_to_status_id\n",
      "in_reply_to_status_id_str\n",
      "in_reply_to_user_id\n",
      "in_reply_to_user_id_str\n",
      "in_reply_to_screen_name\n",
      "user\n",
      "geo\n",
      "coordinates\n",
      "place\n",
      "contributors\n",
      "retweeted_status\n",
      "is_quote_status\n",
      "quote_count\n",
      "reply_count\n",
      "retweet_count\n",
      "favorite_count\n",
      "entities\n",
      "extended_entities\n",
      "favorited\n",
      "retweeted\n",
      "possibly_sensitive\n",
      "filter_level\n",
      "lang\n",
      "timestamp_ms\n",
      "new tweet\n",
      "\n",
      "{'delete': {'status': {'id': 1178914231703543809, 'id_str': '1178914231703543809', 'user_id': 1092722795576868864, 'user_id_str': '1092722795576868864'}, 'timestamp_ms': '1569911429832'}}\n",
      "delete\n",
      "new tweet\n",
      "\n",
      "{'created_at': 'Tue Oct 01 06:30:29 +0000 2019', 'id': 1178920099538845696, 'id_str': '1178920099538845696', 'text': '사랑하는 은우시💜💙 @__soda_0223 @radiant_cew https://t.co/7uZ2eQMIcB', 'display_text_range': [0, 36], 'source': '<a href=\"http://twitter.com/download/iphone\" rel=\"nofollow\">Twitter for iPhone</a>', 'truncated': False, 'in_reply_to_status_id': None, 'in_reply_to_status_id_str': None, 'in_reply_to_user_id': None, 'in_reply_to_user_id_str': None, 'in_reply_to_screen_name': None, 'user': {'id': 1052956143784345600, 'id_str': '1052956143784345600', 'name': '윤𝑺𝒕𝒚𝒍𝒆🍟', 'screen_name': 'Yoonstyle321', 'location': '🐣🐱', 'url': None, 'description': '윤산하는 귀여운척 하는게 아니라 귀욥게 태어난곤뎅 🙄 http://asked.kr/Yoonstyle321', 'translator_type': 'none', 'protected': False, 'verified': False, 'followers_count': 157, 'friends_count': 126, 'listed_count': 0, 'favourites_count': 4468, 'statuses_count': 7933, 'created_at': 'Thu Oct 18 16:14:42 +0000 2018', 'utc_offset': None, 'time_zone': None, 'geo_enabled': True, 'lang': None, 'contributors_enabled': False, 'is_translator': False, 'profile_background_color': 'F5F8FA', 'profile_background_image_url': '', 'profile_background_image_url_https': '', 'profile_background_tile': False, 'profile_link_color': '1DA1F2', 'profile_sidebar_border_color': 'C0DEED', 'profile_sidebar_fill_color': 'DDEEF6', 'profile_text_color': '333333', 'profile_use_background_image': True, 'profile_image_url': 'http://pbs.twimg.com/profile_images/1177258391976067077/5up9alE2_normal.jpg', 'profile_image_url_https': 'https://pbs.twimg.com/profile_images/1177258391976067077/5up9alE2_normal.jpg', 'profile_banner_url': 'https://pbs.twimg.com/profile_banners/1052956143784345600/1561967243', 'default_profile': True, 'default_profile_image': False, 'following': None, 'follow_request_sent': None, 'notifications': None}, 'geo': None, 'coordinates': None, 'place': None, 'contributors': None, 'is_quote_status': False, 'quote_count': 0, 'reply_count': 0, 'retweet_count': 0, 'favorite_count': 0, 'entities': {'hashtags': [], 'urls': [], 'user_mentions': [{'screen_name': '__soda_0223', 'name': '청량💙', 'id': 1035855545863794688, 'id_str': '1035855545863794688', 'indices': [11, 23]}, {'screen_name': 'radiant_cew', 'name': 'ʀᴀᴅɪᴀɴᴛ⭐', 'id': 1115251624295849984, 'id_str': '1115251624295849984', 'indices': [24, 36]}], 'symbols': [], 'media': [{'id': 1178920092630831110, 'id_str': '1178920092630831110', 'indices': [37, 60], 'media_url': 'http://pbs.twimg.com/media/EFxdk_vU0AYuIrk.jpg', 'media_url_https': 'https://pbs.twimg.com/media/EFxdk_vU0AYuIrk.jpg', 'url': 'https://t.co/7uZ2eQMIcB', 'display_url': 'pic.twitter.com/7uZ2eQMIcB', 'expanded_url': 'https://twitter.com/Yoonstyle321/status/1178920099538845696/photo/1', 'type': 'photo', 'sizes': {'thumb': {'w': 150, 'h': 150, 'resize': 'crop'}, 'medium': {'w': 759, 'h': 759, 'resize': 'fit'}, 'small': {'w': 680, 'h': 680, 'resize': 'fit'}, 'large': {'w': 759, 'h': 759, 'resize': 'fit'}}}]}, 'extended_entities': {'media': [{'id': 1178920092630831110, 'id_str': '1178920092630831110', 'indices': [37, 60], 'media_url': 'http://pbs.twimg.com/media/EFxdk_vU0AYuIrk.jpg', 'media_url_https': 'https://pbs.twimg.com/media/EFxdk_vU0AYuIrk.jpg', 'url': 'https://t.co/7uZ2eQMIcB', 'display_url': 'pic.twitter.com/7uZ2eQMIcB', 'expanded_url': 'https://twitter.com/Yoonstyle321/status/1178920099538845696/photo/1', 'type': 'photo', 'sizes': {'thumb': {'w': 150, 'h': 150, 'resize': 'crop'}, 'medium': {'w': 759, 'h': 759, 'resize': 'fit'}, 'small': {'w': 680, 'h': 680, 'resize': 'fit'}, 'large': {'w': 759, 'h': 759, 'resize': 'fit'}}}]}, 'favorited': False, 'retweeted': False, 'possibly_sensitive': False, 'filter_level': 'low', 'lang': 'ko', 'timestamp_ms': '1569911429663'}\n",
      "created_at\n",
      "id\n",
      "id_str\n",
      "text\n",
      "display_text_range\n",
      "source\n",
      "truncated\n",
      "in_reply_to_status_id\n",
      "in_reply_to_status_id_str\n",
      "in_reply_to_user_id\n",
      "in_reply_to_user_id_str\n",
      "in_reply_to_screen_name\n",
      "user\n",
      "geo\n",
      "coordinates\n",
      "place\n",
      "contributors\n",
      "is_quote_status\n",
      "quote_count\n",
      "reply_count\n",
      "retweet_count\n",
      "favorite_count\n",
      "entities\n",
      "extended_entities\n",
      "favorited\n",
      "retweeted\n",
      "possibly_sensitive\n",
      "filter_level\n",
      "lang\n",
      "timestamp_ms\n",
      "new tweet\n",
      "\n",
      "{'created_at': 'Tue Oct 01 06:30:29 +0000 2019', 'id': 1178920099530579968, 'id_str': '1178920099530579968', 'text': 'اقوام متحدہ کی انسانی حقوق کونسل میں کشمیریوں کیلئے مسلم ممالک سے 16 ووٹ حاصل نہ کر سکنے والا \"سلیکٹڈ\" خود کو امہ ک… https://t.co/sEJzkBpPTW', 'display_text_range': [0, 140], 'source': '<a href=\"http://twitter.com/download/android\" rel=\"nofollow\">Twitter for Android</a>', 'truncated': True, 'in_reply_to_status_id': None, 'in_reply_to_status_id_str': None, 'in_reply_to_user_id': None, 'in_reply_to_user_id_str': None, 'in_reply_to_screen_name': None, 'user': {'id': 3152452518, 'id_str': '3152452518', 'name': '@manzoor Alam Khattak_58', 'screen_name': 'manzooralamk11', 'location': 'Shapqadar, Pakistan', 'url': None, 'description': 'A cricketer who want to play cricket like LEGEND,\\nA man who believe in hard work,\\nA man whom born in April #monthoflegends.\\ninsta: manzooralamkhattak_58', 'translator_type': 'none', 'protected': False, 'verified': False, 'followers_count': 20, 'friends_count': 182, 'listed_count': 0, 'favourites_count': 839, 'statuses_count': 356, 'created_at': 'Mon Apr 13 08:39:09 +0000 2015', 'utc_offset': None, 'time_zone': None, 'geo_enabled': True, 'lang': None, 'contributors_enabled': False, 'is_translator': False, 'profile_background_color': 'C0DEED', 'profile_background_image_url': 'http://abs.twimg.com/images/themes/theme1/bg.png', 'profile_background_image_url_https': 'https://abs.twimg.com/images/themes/theme1/bg.png', 'profile_background_tile': False, 'profile_link_color': '1DA1F2', 'profile_sidebar_border_color': 'C0DEED', 'profile_sidebar_fill_color': 'DDEEF6', 'profile_text_color': '333333', 'profile_use_background_image': True, 'profile_image_url': 'http://pbs.twimg.com/profile_images/1125691474190983168/75s_UhRl_normal.jpg', 'profile_image_url_https': 'https://pbs.twimg.com/profile_images/1125691474190983168/75s_UhRl_normal.jpg', 'profile_banner_url': 'https://pbs.twimg.com/profile_banners/3152452518/1559892712', 'default_profile': True, 'default_profile_image': False, 'following': None, 'follow_request_sent': None, 'notifications': None}, 'geo': None, 'coordinates': None, 'place': {'id': '003faa615af988db', 'url': 'https://api.twitter.com/1.1/geo/id/003faa615af988db.json', 'place_type': 'city', 'name': 'Peshawar', 'full_name': 'Peshawar, Pakistan', 'country_code': 'PK', 'country': 'Pakistan', 'bounding_box': {'type': 'Polygon', 'coordinates': [[[71.414192, 33.911362], [71.414192, 34.050221], [71.66967, 34.050221], [71.66967, 33.911362]]]}, 'attributes': {}}, 'contributors': None, 'is_quote_status': False, 'extended_tweet': {'full_text': 'اقوام متحدہ کی انسانی حقوق کونسل میں کشمیریوں کیلئے مسلم ممالک سے 16 ووٹ حاصل نہ کر سکنے والا \"سلیکٹڈ\" خود کو امہ کا پاسبان سمجھ رہا ہے.\\n#نااہل_سلیکٹڈ_ناکام_سفارتکاری https://t.co/A7pqNJ29wZ', 'display_text_range': [0, 166], 'entities': {'hashtags': [{'text': 'نااہل_سلیکٹڈ_ناکام_سفارتکاری', 'indices': [137, 166]}], 'urls': [], 'user_mentions': [], 'symbols': [], 'media': [{'id': 1178920094824566790, 'id_str': '1178920094824566790', 'indices': [167, 190], 'media_url': 'http://pbs.twimg.com/media/EFxdlH6WkAYDJwu.jpg', 'media_url_https': 'https://pbs.twimg.com/media/EFxdlH6WkAYDJwu.jpg', 'url': 'https://t.co/A7pqNJ29wZ', 'display_url': 'pic.twitter.com/A7pqNJ29wZ', 'expanded_url': 'https://twitter.com/manzooralamk11/status/1178920099530579968/photo/1', 'type': 'photo', 'sizes': {'thumb': {'w': 150, 'h': 150, 'resize': 'crop'}, 'large': {'w': 720, 'h': 458, 'resize': 'fit'}, 'medium': {'w': 720, 'h': 458, 'resize': 'fit'}, 'small': {'w': 680, 'h': 433, 'resize': 'fit'}}}]}, 'extended_entities': {'media': [{'id': 1178920094824566790, 'id_str': '1178920094824566790', 'indices': [167, 190], 'media_url': 'http://pbs.twimg.com/media/EFxdlH6WkAYDJwu.jpg', 'media_url_https': 'https://pbs.twimg.com/media/EFxdlH6WkAYDJwu.jpg', 'url': 'https://t.co/A7pqNJ29wZ', 'display_url': 'pic.twitter.com/A7pqNJ29wZ', 'expanded_url': 'https://twitter.com/manzooralamk11/status/1178920099530579968/photo/1', 'type': 'photo', 'sizes': {'thumb': {'w': 150, 'h': 150, 'resize': 'crop'}, 'large': {'w': 720, 'h': 458, 'resize': 'fit'}, 'medium': {'w': 720, 'h': 458, 'resize': 'fit'}, 'small': {'w': 680, 'h': 433, 'resize': 'fit'}}}]}}, 'quote_count': 0, 'reply_count': 0, 'retweet_count': 0, 'favorite_count': 0, 'entities': {'hashtags': [], 'urls': [{'url': 'https://t.co/sEJzkBpPTW', 'expanded_url': 'https://twitter.com/i/web/status/1178920099530579968', 'display_url': 'twitter.com/i/web/status/1…', 'indices': [117, 140]}], 'user_mentions': [], 'symbols': []}, 'favorited': False, 'retweeted': False, 'possibly_sensitive': False, 'filter_level': 'low', 'lang': 'ur', 'timestamp_ms': '1569911429661'}\n",
      "created_at\n",
      "id\n",
      "id_str\n",
      "text\n",
      "display_text_range\n",
      "source\n",
      "truncated\n",
      "in_reply_to_status_id\n",
      "in_reply_to_status_id_str\n",
      "in_reply_to_user_id\n",
      "in_reply_to_user_id_str\n",
      "in_reply_to_screen_name\n",
      "user\n",
      "geo\n",
      "coordinates\n",
      "place\n",
      "contributors\n",
      "is_quote_status\n",
      "extended_tweet\n",
      "quote_count\n",
      "reply_count\n",
      "retweet_count\n",
      "favorite_count\n",
      "entities\n",
      "favorited\n",
      "retweeted\n",
      "possibly_sensitive\n",
      "filter_level\n",
      "lang\n",
      "timestamp_ms\n",
      "new tweet\n",
      "\n",
      "{'created_at': 'Tue Oct 01 06:30:29 +0000 2019', 'id': 1178920099517992962, 'id_str': '1178920099517992962', 'text': '@SWatercolour I remember I was on the toilet and a bigass spider dangled in front of me. I PEED ON THE FLOOR TO GET… https://t.co/Gar9pA0QHu', 'display_text_range': [14, 140], 'source': '<a href=\"http://twitter.com/download/iphone\" rel=\"nofollow\">Twitter for iPhone</a>', 'truncated': True, 'in_reply_to_status_id': 1178785559919157250, 'in_reply_to_status_id_str': '1178785559919157250', 'in_reply_to_user_id': 554510636, 'in_reply_to_user_id_str': '554510636', 'in_reply_to_screen_name': 'SWatercolour', 'user': {'id': 1009537492037533696, 'id_str': '1009537492037533696', 'name': 'ℱ𝒶𝒹ℯ', 'screen_name': 'Ilanatron', 'location': 'Maryland, USA', 'url': None, 'description': 'Ou. follow me on ig @_iam_your_demon_ knk, bts, txt, other shits idk...ace slaps too.', 'translator_type': 'none', 'protected': False, 'verified': False, 'followers_count': 38, 'friends_count': 52, 'listed_count': 0, 'favourites_count': 33519, 'statuses_count': 2496, 'created_at': 'Wed Jun 20 20:44:29 +0000 2018', 'utc_offset': None, 'time_zone': None, 'geo_enabled': False, 'lang': None, 'contributors_enabled': False, 'is_translator': False, 'profile_background_color': 'F5F8FA', 'profile_background_image_url': '', 'profile_background_image_url_https': '', 'profile_background_tile': False, 'profile_link_color': '1DA1F2', 'profile_sidebar_border_color': 'C0DEED', 'profile_sidebar_fill_color': 'DDEEF6', 'profile_text_color': '333333', 'profile_use_background_image': True, 'profile_image_url': 'http://pbs.twimg.com/profile_images/1166823298291916802/eJXbgFJj_normal.jpg', 'profile_image_url_https': 'https://pbs.twimg.com/profile_images/1166823298291916802/eJXbgFJj_normal.jpg', 'profile_banner_url': 'https://pbs.twimg.com/profile_banners/1009537492037533696/1563359723', 'default_profile': True, 'default_profile_image': False, 'following': None, 'follow_request_sent': None, 'notifications': None}, 'geo': None, 'coordinates': None, 'place': None, 'contributors': None, 'is_quote_status': False, 'extended_tweet': {'full_text': '@SWatercolour I remember I was on the toilet and a bigass spider dangled in front of me. I PEED ON THE FLOOR TO GET UP. https://t.co/PkNITlDbrL', 'display_text_range': [14, 119], 'entities': {'hashtags': [], 'urls': [], 'user_mentions': [{'screen_name': 'SWatercolour', 'name': 'shitty watercolour', 'id': 554510636, 'id_str': '554510636', 'indices': [0, 13]}], 'symbols': [], 'media': [{'id': 1178920096011563013, 'id_str': '1178920096011563013', 'indices': [120, 143], 'media_url': 'http://pbs.twimg.com/media/EFxdlMVWsAUsAME.jpg', 'media_url_https': 'https://pbs.twimg.com/media/EFxdlMVWsAUsAME.jpg', 'url': 'https://t.co/PkNITlDbrL', 'display_url': 'pic.twitter.com/PkNITlDbrL', 'expanded_url': 'https://twitter.com/Ilanatron/status/1178920099517992962/photo/1', 'type': 'photo', 'sizes': {'thumb': {'w': 150, 'h': 150, 'resize': 'crop'}, 'large': {'w': 1125, 'h': 671, 'resize': 'fit'}, 'small': {'w': 680, 'h': 406, 'resize': 'fit'}, 'medium': {'w': 1125, 'h': 671, 'resize': 'fit'}}}]}, 'extended_entities': {'media': [{'id': 1178920096011563013, 'id_str': '1178920096011563013', 'indices': [120, 143], 'media_url': 'http://pbs.twimg.com/media/EFxdlMVWsAUsAME.jpg', 'media_url_https': 'https://pbs.twimg.com/media/EFxdlMVWsAUsAME.jpg', 'url': 'https://t.co/PkNITlDbrL', 'display_url': 'pic.twitter.com/PkNITlDbrL', 'expanded_url': 'https://twitter.com/Ilanatron/status/1178920099517992962/photo/1', 'type': 'photo', 'sizes': {'thumb': {'w': 150, 'h': 150, 'resize': 'crop'}, 'large': {'w': 1125, 'h': 671, 'resize': 'fit'}, 'small': {'w': 680, 'h': 406, 'resize': 'fit'}, 'medium': {'w': 1125, 'h': 671, 'resize': 'fit'}}}]}}, 'quote_count': 0, 'reply_count': 0, 'retweet_count': 0, 'favorite_count': 0, 'entities': {'hashtags': [], 'urls': [{'url': 'https://t.co/Gar9pA0QHu', 'expanded_url': 'https://twitter.com/i/web/status/1178920099517992962', 'display_url': 'twitter.com/i/web/status/1…', 'indices': [117, 140]}], 'user_mentions': [{'screen_name': 'SWatercolour', 'name': 'shitty watercolour', 'id': 554510636, 'id_str': '554510636', 'indices': [0, 13]}], 'symbols': []}, 'favorited': False, 'retweeted': False, 'possibly_sensitive': True, 'filter_level': 'low', 'lang': 'en', 'timestamp_ms': '1569911429658'}\n",
      "created_at\n",
      "id\n",
      "id_str\n",
      "text\n",
      "display_text_range\n",
      "source\n",
      "truncated\n",
      "in_reply_to_status_id\n",
      "in_reply_to_status_id_str\n",
      "in_reply_to_user_id\n",
      "in_reply_to_user_id_str\n",
      "in_reply_to_screen_name\n",
      "user\n",
      "geo\n",
      "coordinates\n",
      "place\n",
      "contributors\n",
      "is_quote_status\n",
      "extended_tweet\n",
      "quote_count\n",
      "reply_count\n",
      "retweet_count\n",
      "favorite_count\n",
      "entities\n",
      "favorited\n",
      "retweeted\n",
      "possibly_sensitive\n",
      "filter_level\n",
      "lang\n",
      "timestamp_ms\n",
      "new tweet\n",
      "\n"
     ]
    },
    {
     "ename": "JSONDecodeError",
     "evalue": "Extra data: line 1 column 2 (char 1)",
     "output_type": "error",
     "traceback": [
      "\u001b[0;31m---------------------------------------------------------------------------\u001b[0m",
      "\u001b[0;31mJSONDecodeError\u001b[0m                           Traceback (most recent call last)",
      "\u001b[0;32m<ipython-input-16-0e047ae1845d>\u001b[0m in \u001b[0;36m<module>\u001b[0;34m\u001b[0m\n\u001b[1;32m      2\u001b[0m \u001b[0;34m\u001b[0m\u001b[0m\n\u001b[1;32m      3\u001b[0m \u001b[0;32mfor\u001b[0m \u001b[0mtweet\u001b[0m \u001b[0;32min\u001b[0m \u001b[0mtweets_sample\u001b[0m\u001b[0;34m:\u001b[0m\u001b[0;34m\u001b[0m\u001b[0;34m\u001b[0m\u001b[0m\n\u001b[0;32m----> 4\u001b[0;31m     \u001b[0mtweet_js\u001b[0m \u001b[0;34m=\u001b[0m \u001b[0mjson\u001b[0m\u001b[0;34m.\u001b[0m\u001b[0mloads\u001b[0m\u001b[0;34m(\u001b[0m\u001b[0mtweet\u001b[0m\u001b[0;34m)\u001b[0m\u001b[0;34m\u001b[0m\u001b[0;34m\u001b[0m\u001b[0m\n\u001b[0m\u001b[1;32m      5\u001b[0m     \u001b[0;31m#print(type(tweet_js))\u001b[0m\u001b[0;34m\u001b[0m\u001b[0;34m\u001b[0m\u001b[0;34m\u001b[0m\u001b[0m\n\u001b[1;32m      6\u001b[0m     \u001b[0mprint\u001b[0m\u001b[0;34m(\u001b[0m\u001b[0mtweet_js\u001b[0m\u001b[0;34m)\u001b[0m\u001b[0;34m\u001b[0m\u001b[0;34m\u001b[0m\u001b[0m\n",
      "\u001b[0;32m~/anaconda3/lib/python3.7/json/__init__.py\u001b[0m in \u001b[0;36mloads\u001b[0;34m(s, encoding, cls, object_hook, parse_float, parse_int, parse_constant, object_pairs_hook, **kw)\u001b[0m\n\u001b[1;32m    346\u001b[0m             \u001b[0mparse_int\u001b[0m \u001b[0;32mis\u001b[0m \u001b[0;32mNone\u001b[0m \u001b[0;32mand\u001b[0m \u001b[0mparse_float\u001b[0m \u001b[0;32mis\u001b[0m \u001b[0;32mNone\u001b[0m \u001b[0;32mand\u001b[0m\u001b[0;34m\u001b[0m\u001b[0;34m\u001b[0m\u001b[0m\n\u001b[1;32m    347\u001b[0m             parse_constant is None and object_pairs_hook is None and not kw):\n\u001b[0;32m--> 348\u001b[0;31m         \u001b[0;32mreturn\u001b[0m \u001b[0m_default_decoder\u001b[0m\u001b[0;34m.\u001b[0m\u001b[0mdecode\u001b[0m\u001b[0;34m(\u001b[0m\u001b[0ms\u001b[0m\u001b[0;34m)\u001b[0m\u001b[0;34m\u001b[0m\u001b[0;34m\u001b[0m\u001b[0m\n\u001b[0m\u001b[1;32m    349\u001b[0m     \u001b[0;32mif\u001b[0m \u001b[0mcls\u001b[0m \u001b[0;32mis\u001b[0m \u001b[0;32mNone\u001b[0m\u001b[0;34m:\u001b[0m\u001b[0;34m\u001b[0m\u001b[0;34m\u001b[0m\u001b[0m\n\u001b[1;32m    350\u001b[0m         \u001b[0mcls\u001b[0m \u001b[0;34m=\u001b[0m \u001b[0mJSONDecoder\u001b[0m\u001b[0;34m\u001b[0m\u001b[0;34m\u001b[0m\u001b[0m\n",
      "\u001b[0;32m~/anaconda3/lib/python3.7/json/decoder.py\u001b[0m in \u001b[0;36mdecode\u001b[0;34m(self, s, _w)\u001b[0m\n\u001b[1;32m    338\u001b[0m         \u001b[0mend\u001b[0m \u001b[0;34m=\u001b[0m \u001b[0m_w\u001b[0m\u001b[0;34m(\u001b[0m\u001b[0ms\u001b[0m\u001b[0;34m,\u001b[0m \u001b[0mend\u001b[0m\u001b[0;34m)\u001b[0m\u001b[0;34m.\u001b[0m\u001b[0mend\u001b[0m\u001b[0;34m(\u001b[0m\u001b[0;34m)\u001b[0m\u001b[0;34m\u001b[0m\u001b[0;34m\u001b[0m\u001b[0m\n\u001b[1;32m    339\u001b[0m         \u001b[0;32mif\u001b[0m \u001b[0mend\u001b[0m \u001b[0;34m!=\u001b[0m \u001b[0mlen\u001b[0m\u001b[0;34m(\u001b[0m\u001b[0ms\u001b[0m\u001b[0;34m)\u001b[0m\u001b[0;34m:\u001b[0m\u001b[0;34m\u001b[0m\u001b[0;34m\u001b[0m\u001b[0m\n\u001b[0;32m--> 340\u001b[0;31m             \u001b[0;32mraise\u001b[0m \u001b[0mJSONDecodeError\u001b[0m\u001b[0;34m(\u001b[0m\u001b[0;34m\"Extra data\"\u001b[0m\u001b[0;34m,\u001b[0m \u001b[0ms\u001b[0m\u001b[0;34m,\u001b[0m \u001b[0mend\u001b[0m\u001b[0;34m)\u001b[0m\u001b[0;34m\u001b[0m\u001b[0;34m\u001b[0m\u001b[0m\n\u001b[0m\u001b[1;32m    341\u001b[0m         \u001b[0;32mreturn\u001b[0m \u001b[0mobj\u001b[0m\u001b[0;34m\u001b[0m\u001b[0;34m\u001b[0m\u001b[0m\n\u001b[1;32m    342\u001b[0m \u001b[0;34m\u001b[0m\u001b[0m\n",
      "\u001b[0;31mJSONDecodeError\u001b[0m: Extra data: line 1 column 2 (char 1)"
     ]
    }
   ],
   "source": [
    "tweets_sample = open(\"tweets_sample\", \"r\")\n",
    "\n",
    "for tweet in tweets_sample:\n",
    "    tweet_js = json.loads(tweet)\n",
    "    #print(type(tweet_js))\n",
    "    print(tweet_js)\n",
    "    for key in tweet_js.keys():\n",
    "        print(key)\n",
    "    print(\"new tweet\\n\")"
   ]
  },
  {
   "cell_type": "code",
   "execution_count": 83,
   "metadata": {},
   "outputs": [
    {
     "name": "stdout",
     "output_type": "stream",
     "text": [
      "date time user og_user\n"
     ]
    },
    {
     "ename": "JSONDecodeError",
     "evalue": "Expecting property name enclosed in double quotes: line 1 column 2 (char 1)",
     "output_type": "error",
     "traceback": [
      "\u001b[0;31m---------------------------------------------------------------------------\u001b[0m",
      "\u001b[0;31mJSONDecodeError\u001b[0m                           Traceback (most recent call last)",
      "\u001b[0;32m<ipython-input-83-a6d1f2981f42>\u001b[0m in \u001b[0;36m<module>\u001b[0;34m\u001b[0m\n\u001b[1;32m      6\u001b[0m \u001b[0;34m\u001b[0m\u001b[0m\n\u001b[1;32m      7\u001b[0m \u001b[0;32mfor\u001b[0m \u001b[0mtweet\u001b[0m \u001b[0;32min\u001b[0m \u001b[0mtweets_sample\u001b[0m\u001b[0;34m:\u001b[0m\u001b[0;34m\u001b[0m\u001b[0;34m\u001b[0m\u001b[0m\n\u001b[0;32m----> 8\u001b[0;31m     \u001b[0mtweet_js\u001b[0m \u001b[0;34m=\u001b[0m \u001b[0mjson\u001b[0m\u001b[0;34m.\u001b[0m\u001b[0mloads\u001b[0m\u001b[0;34m(\u001b[0m\u001b[0mtweet\u001b[0m\u001b[0;34m)\u001b[0m\u001b[0;34m\u001b[0m\u001b[0;34m\u001b[0m\u001b[0m\n\u001b[0m\u001b[1;32m      9\u001b[0m     \u001b[0mprint\u001b[0m\u001b[0;34m(\u001b[0m\u001b[0mtype\u001b[0m\u001b[0;34m(\u001b[0m\u001b[0mtweet_js\u001b[0m\u001b[0;34m)\u001b[0m\u001b[0;34m)\u001b[0m\u001b[0;34m\u001b[0m\u001b[0;34m\u001b[0m\u001b[0m\n\u001b[1;32m     10\u001b[0m     \u001b[0mprint\u001b[0m\u001b[0;34m(\u001b[0m\u001b[0mtweet_js\u001b[0m\u001b[0;34m)\u001b[0m\u001b[0;34m\u001b[0m\u001b[0;34m\u001b[0m\u001b[0m\n",
      "\u001b[0;32m~/anaconda3/lib/python3.7/json/__init__.py\u001b[0m in \u001b[0;36mloads\u001b[0;34m(s, encoding, cls, object_hook, parse_float, parse_int, parse_constant, object_pairs_hook, **kw)\u001b[0m\n\u001b[1;32m    346\u001b[0m             \u001b[0mparse_int\u001b[0m \u001b[0;32mis\u001b[0m \u001b[0;32mNone\u001b[0m \u001b[0;32mand\u001b[0m \u001b[0mparse_float\u001b[0m \u001b[0;32mis\u001b[0m \u001b[0;32mNone\u001b[0m \u001b[0;32mand\u001b[0m\u001b[0;34m\u001b[0m\u001b[0;34m\u001b[0m\u001b[0m\n\u001b[1;32m    347\u001b[0m             parse_constant is None and object_pairs_hook is None and not kw):\n\u001b[0;32m--> 348\u001b[0;31m         \u001b[0;32mreturn\u001b[0m \u001b[0m_default_decoder\u001b[0m\u001b[0;34m.\u001b[0m\u001b[0mdecode\u001b[0m\u001b[0;34m(\u001b[0m\u001b[0ms\u001b[0m\u001b[0;34m)\u001b[0m\u001b[0;34m\u001b[0m\u001b[0;34m\u001b[0m\u001b[0m\n\u001b[0m\u001b[1;32m    349\u001b[0m     \u001b[0;32mif\u001b[0m \u001b[0mcls\u001b[0m \u001b[0;32mis\u001b[0m \u001b[0;32mNone\u001b[0m\u001b[0;34m:\u001b[0m\u001b[0;34m\u001b[0m\u001b[0;34m\u001b[0m\u001b[0m\n\u001b[1;32m    350\u001b[0m         \u001b[0mcls\u001b[0m \u001b[0;34m=\u001b[0m \u001b[0mJSONDecoder\u001b[0m\u001b[0;34m\u001b[0m\u001b[0;34m\u001b[0m\u001b[0m\n",
      "\u001b[0;32m~/anaconda3/lib/python3.7/json/decoder.py\u001b[0m in \u001b[0;36mdecode\u001b[0;34m(self, s, _w)\u001b[0m\n\u001b[1;32m    335\u001b[0m \u001b[0;34m\u001b[0m\u001b[0m\n\u001b[1;32m    336\u001b[0m         \"\"\"\n\u001b[0;32m--> 337\u001b[0;31m         \u001b[0mobj\u001b[0m\u001b[0;34m,\u001b[0m \u001b[0mend\u001b[0m \u001b[0;34m=\u001b[0m \u001b[0mself\u001b[0m\u001b[0;34m.\u001b[0m\u001b[0mraw_decode\u001b[0m\u001b[0;34m(\u001b[0m\u001b[0ms\u001b[0m\u001b[0;34m,\u001b[0m \u001b[0midx\u001b[0m\u001b[0;34m=\u001b[0m\u001b[0m_w\u001b[0m\u001b[0;34m(\u001b[0m\u001b[0ms\u001b[0m\u001b[0;34m,\u001b[0m \u001b[0;36m0\u001b[0m\u001b[0;34m)\u001b[0m\u001b[0;34m.\u001b[0m\u001b[0mend\u001b[0m\u001b[0;34m(\u001b[0m\u001b[0;34m)\u001b[0m\u001b[0;34m)\u001b[0m\u001b[0;34m\u001b[0m\u001b[0;34m\u001b[0m\u001b[0m\n\u001b[0m\u001b[1;32m    338\u001b[0m         \u001b[0mend\u001b[0m \u001b[0;34m=\u001b[0m \u001b[0m_w\u001b[0m\u001b[0;34m(\u001b[0m\u001b[0ms\u001b[0m\u001b[0;34m,\u001b[0m \u001b[0mend\u001b[0m\u001b[0;34m)\u001b[0m\u001b[0;34m.\u001b[0m\u001b[0mend\u001b[0m\u001b[0;34m(\u001b[0m\u001b[0;34m)\u001b[0m\u001b[0;34m\u001b[0m\u001b[0;34m\u001b[0m\u001b[0m\n\u001b[1;32m    339\u001b[0m         \u001b[0;32mif\u001b[0m \u001b[0mend\u001b[0m \u001b[0;34m!=\u001b[0m \u001b[0mlen\u001b[0m\u001b[0;34m(\u001b[0m\u001b[0ms\u001b[0m\u001b[0;34m)\u001b[0m\u001b[0;34m:\u001b[0m\u001b[0;34m\u001b[0m\u001b[0;34m\u001b[0m\u001b[0m\n",
      "\u001b[0;32m~/anaconda3/lib/python3.7/json/decoder.py\u001b[0m in \u001b[0;36mraw_decode\u001b[0;34m(self, s, idx)\u001b[0m\n\u001b[1;32m    351\u001b[0m         \"\"\"\n\u001b[1;32m    352\u001b[0m         \u001b[0;32mtry\u001b[0m\u001b[0;34m:\u001b[0m\u001b[0;34m\u001b[0m\u001b[0;34m\u001b[0m\u001b[0m\n\u001b[0;32m--> 353\u001b[0;31m             \u001b[0mobj\u001b[0m\u001b[0;34m,\u001b[0m \u001b[0mend\u001b[0m \u001b[0;34m=\u001b[0m \u001b[0mself\u001b[0m\u001b[0;34m.\u001b[0m\u001b[0mscan_once\u001b[0m\u001b[0;34m(\u001b[0m\u001b[0ms\u001b[0m\u001b[0;34m,\u001b[0m \u001b[0midx\u001b[0m\u001b[0;34m)\u001b[0m\u001b[0;34m\u001b[0m\u001b[0;34m\u001b[0m\u001b[0m\n\u001b[0m\u001b[1;32m    354\u001b[0m         \u001b[0;32mexcept\u001b[0m \u001b[0mStopIteration\u001b[0m \u001b[0;32mas\u001b[0m \u001b[0merr\u001b[0m\u001b[0;34m:\u001b[0m\u001b[0;34m\u001b[0m\u001b[0;34m\u001b[0m\u001b[0m\n\u001b[1;32m    355\u001b[0m             \u001b[0;32mraise\u001b[0m \u001b[0mJSONDecodeError\u001b[0m\u001b[0;34m(\u001b[0m\u001b[0;34m\"Expecting value\"\u001b[0m\u001b[0;34m,\u001b[0m \u001b[0ms\u001b[0m\u001b[0;34m,\u001b[0m \u001b[0merr\u001b[0m\u001b[0;34m.\u001b[0m\u001b[0mvalue\u001b[0m\u001b[0;34m)\u001b[0m \u001b[0;32mfrom\u001b[0m \u001b[0;32mNone\u001b[0m\u001b[0;34m\u001b[0m\u001b[0;34m\u001b[0m\u001b[0m\n",
      "\u001b[0;31mJSONDecodeError\u001b[0m: Expecting property name enclosed in double quotes: line 1 column 2 (char 1)"
     ]
    }
   ],
   "source": [
    "tweets_sample = open(\"tweets_sample\", \"r\")\n",
    "\n",
    "tweets_sample = tweets_sample.read()\n",
    "\n",
    "tweets_sample = json.loads(tweets_sample)\n",
    "\n",
    "type(tweets_sample)\n",
    "\n",
    "print(\"date\", \"time\", \"user\", \"og_user\")\n",
    "\n",
    "for tweet in tweets_sample:\n",
    "    tweet_js = json.loads(tweet)\n",
    "    print(type(tweet_js))\n",
    "    print(tweet_js)\n",
    "    #tweet_js['id']\n",
    "    #print(type(tweet_js))\n",
    "    #for key in tweet_js.keys():\n",
    "    #   print(key)\n",
    "    #print(\"new tweet\\n\")"
   ]
  },
  {
   "cell_type": "code",
   "execution_count": 8,
   "metadata": {},
   "outputs": [
    {
     "ename": "SyntaxError",
     "evalue": "invalid syntax (<ipython-input-8-da4b83ff8e83>, line 1)",
     "output_type": "error",
     "traceback": [
      "\u001b[0;36m  File \u001b[0;32m\"<ipython-input-8-da4b83ff8e83>\"\u001b[0;36m, line \u001b[0;32m1\u001b[0m\n\u001b[0;31m    5+5 | print(., \"ten\")\u001b[0m\n\u001b[0m                ^\u001b[0m\n\u001b[0;31mSyntaxError\u001b[0m\u001b[0;31m:\u001b[0m invalid syntax\n"
     ]
    }
   ],
   "source": []
  },
  {
   "cell_type": "code",
   "execution_count": 20,
   "metadata": {},
   "outputs": [],
   "source": [
    "inventory = {\n",
    "    'apples': 50,\n",
    "    'oranges': 60,\n",
    "    'pet food': 0,\n",
    "    'toilet paper': 1,\n",
    "    'burts bees': 'none, ever since it got bought out by clorox',\n",
    "}"
   ]
  },
  {
   "cell_type": "code",
   "execution_count": 24,
   "metadata": {},
   "outputs": [
    {
     "ename": "KeyError",
     "evalue": "'applessaf'",
     "output_type": "error",
     "traceback": [
      "\u001b[0;31m---------------------------------------------------------------------------\u001b[0m",
      "\u001b[0;31mKeyError\u001b[0m                                  Traceback (most recent call last)",
      "\u001b[0;32m<ipython-input-24-d2dbd8c4933a>\u001b[0m in \u001b[0;36m<module>\u001b[0;34m\u001b[0m\n\u001b[0;32m----> 1\u001b[0;31m \u001b[0minventory\u001b[0m\u001b[0;34m[\u001b[0m\u001b[0;34m'applessaf'\u001b[0m\u001b[0;34m]\u001b[0m\u001b[0;34m\u001b[0m\u001b[0;34m\u001b[0m\u001b[0m\n\u001b[0m",
      "\u001b[0;31mKeyError\u001b[0m: 'applessaf'"
     ]
    }
   ],
   "source": []
  },
  {
   "cell_type": "code",
   "execution_count": 19,
   "metadata": {},
   "outputs": [
    {
     "ename": "SyntaxError",
     "evalue": "invalid syntax (<ipython-input-19-c41c1efcafde>, line 1)",
     "output_type": "error",
     "traceback": [
      "\u001b[0;36m  File \u001b[0;32m\"<ipython-input-19-c41c1efcafde>\"\u001b[0;36m, line \u001b[0;32m1\u001b[0m\n\u001b[0;31m    5.pipe(print, \"hello\")\u001b[0m\n\u001b[0m         ^\u001b[0m\n\u001b[0;31mSyntaxError\u001b[0m\u001b[0;31m:\u001b[0m invalid syntax\n"
     ]
    }
   ],
   "source": []
  },
  {
   "cell_type": "code",
   "execution_count": null,
   "metadata": {},
   "outputs": [],
   "source": []
  }
 ],
 "metadata": {
  "kernelspec": {
   "display_name": "Python 3",
   "language": "python",
   "name": "python3"
  },
  "language_info": {
   "codemirror_mode": {
    "name": "ipython",
    "version": 3
   },
   "file_extension": ".py",
   "mimetype": "text/x-python",
   "name": "python",
   "nbconvert_exporter": "python",
   "pygments_lexer": "ipython3",
   "version": "3.7.3"
  }
 },
 "nbformat": 4,
 "nbformat_minor": 4
}
